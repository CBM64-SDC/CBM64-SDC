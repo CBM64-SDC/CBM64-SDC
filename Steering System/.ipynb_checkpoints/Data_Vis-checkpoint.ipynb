{
 "cells": [
  {
   "cell_type": "code",
   "execution_count": 11,
   "metadata": {},
   "outputs": [],
   "source": [
    "import cv2\n",
    "import csv\n",
    "\n",
    "import numpy as np\n",
    "import matplotlib.pyplot as plt\n",
    "import pandas as pd\n",
    "pd.options.display.float_format = '${:,.10f}'.format\n",
    "\n",
    "from scipy.misc import imread, imresize\n",
    "from sklearn.utils import shuffle\n",
    "from os import listdir\n",
    "from os.path import join\n",
    "from keras.preprocessing.image import img_to_array, load_img\n",
    "\n",
    "%matplotlib inline"
   ]
  },
  {
   "cell_type": "code",
   "execution_count": 62,
   "metadata": {
    "collapsed": true
   },
   "outputs": [],
   "source": [
    "###### TRAINING CONSTANTS ######\n",
    "SPLIT = 0.4\n",
    "BATCH_SIZE = 128\n",
    "EPOCHS = 8\n",
    "VAL_SAMPLES = 2000\n",
    "SAMPLES_PER_EPOCH = (20000//BATCH_SIZE)*BATCH_SIZE\n",
    "############################"
   ]
  },
  {
   "cell_type": "code",
   "execution_count": 63,
   "metadata": {
    "collapsed": true
   },
   "outputs": [],
   "source": [
    "data = pd.read_csv('../../data/driving_log_clean.csv')"
   ]
  },
  {
   "cell_type": "code",
   "execution_count": 64,
   "metadata": {},
   "outputs": [],
   "source": [
    "# Shuffling the data\n",
    "data = data.sample(frac=1).reset_index(drop=True)\n",
    "\n",
    "# Dropping some of the data to balance the dataset\n",
    "bad = 0\n",
    "for index1, row1 in data.iterrows():\n",
    "    if row1['steering'] == 0:\n",
    "        bad += 1\n",
    "ind = []\n",
    "for index, row in data.iterrows():\n",
    "    if row['steering'] == 0:\n",
    "        ind.append(index)\n",
    "        bad -= 1\n",
    "    if bad == 750:\n",
    "        break\n",
    "data = data.drop(data.index[ind]).reset_index(drop=True)\n",
    "\n",
    "\n",
    "# Splitting the data: (See SPLIT under SOME CONSTANTS)\n",
    "train_num = int(data.shape[0]*SPLIT)\n",
    "training_data = data.loc[0:train_num-1]\n",
    "validation_data = data.loc[train_num:]"
   ]
  },
  {
   "cell_type": "code",
   "execution_count": 65,
   "metadata": {},
   "outputs": [
    {
     "name": "stdout",
     "output_type": "stream",
     "text": [
      "Full Data Size:  (7465, 4)\n",
      "Split Rate:  0.4\n",
      "Training Data Size:  (2986, 4)\n",
      "Validation Data Size:  (4479, 4)\n"
     ]
    }
   ],
   "source": [
    "print(\"Full Data Size: \", data.shape)\n",
    "print(\"Split Rate: \", SPLIT)\n",
    "print(\"Training Data Size: \", training_data.shape)\n",
    "print(\"Validation Data Size: \", validation_data.shape)"
   ]
  },
  {
   "cell_type": "code",
   "execution_count": 66,
   "metadata": {
    "collapsed": true
   },
   "outputs": [],
   "source": [
    "data = None"
   ]
  },
  {
   "cell_type": "code",
   "execution_count": 67,
   "metadata": {
    "collapsed": true
   },
   "outputs": [],
   "source": [
    "def visualize_distribution(data):\n",
    "    num_bins = 23\n",
    "    avg_samples_per_bin = len(data)/num_bins\n",
    "    hist, bins = np.histogram(data, num_bins)\n",
    "    width = 0.7 * (bins[1] - bins[0])\n",
    "    center = (bins[:-1] + bins[1:]) / 2\n",
    "    plt.bar(center, hist, align='center', width=width)\n",
    "    plt.plot((np.min(data), np.max(data)), (avg_samples_per_bin, avg_samples_per_bin), 'k-')\n",
    "    plt.show()"
   ]
  },
  {
   "cell_type": "code",
   "execution_count": 68,
   "metadata": {},
   "outputs": [
    {
     "data": {
      "image/png": "[encoded data removed]",
      "text/plain": [
       "<matplotlib.figure.Figure at 0x1210e8c88>"
      ]
     },
     "metadata": {},
     "output_type": "display_data"
    }
   ],
   "source": [
    "visualize_distribution(training_data['steering'])"
   ]
  },
  {
   "cell_type": "code",
   "execution_count": 69,
   "metadata": {},
   "outputs": [
    {
     "data": {
      "image/png": "[encoded data removed]",
      "text/plain": [
       "<matplotlib.figure.Figure at 0x11fee6c18>"
      ]
     },
     "metadata": {},
     "output_type": "display_data"
    }
   ],
   "source": [
    "visualize_distribution(validation_data['steering'])"
   ]
  },
  {
   "cell_type": "code",
   "execution_count": 108,
   "metadata": {
    "collapsed": true
   },
   "outputs": [],
   "source": [
    "def resize(img, shape=(64, 64, 3)):\n",
    "    cropped_image = img[55:135, :, :]\n",
    "    #processed_image = imresize(cropped_image, shape)\n",
    "    return cropped_image\n",
    "\n",
    "def rgb2gray(img):\n",
    "    ret = np.zeros(img.shape)\n",
    "    ret = cv2.cvtColor(img, cv2.COLOR_RGB2GRAY)\n",
    "    return ret\n",
    "    \n",
    "def normalize(img):\n",
    "    img = (img / 255) - 0.5\n",
    "    return img\n",
    "\n",
    "def preprocess(img):\n",
    "    img1 = resize(img)\n",
    "    img2 = rgb2gray(img1)\n",
    "    img3 = normalize(img2)\n",
    "    return img3\n",
    "\n",
    "def augment_brightness(img):\n",
    "    newimg = cv2.cvtColor(img,cv2.COLOR_RGB2HSV)\n",
    "\n",
    "    # randomly generate the brightness reduction factor\n",
    "    # Add a constant so that it prevents the image from being completely dark\n",
    "    random_bright = .30+np.random.uniform()\n",
    "\n",
    "    # Apply the brightness reduction to the V channel\n",
    "    newimg[:,:,2] = newimg[:,:,2]*random_bright\n",
    "\n",
    "    # convert to RBG again\n",
    "    newimg = cv2.cvtColor(newimg,cv2.COLOR_HSV2RGB)\n",
    "    return newimg\n",
    "\n",
    "def read(row):\n",
    "    steering = row['steering']\n",
    "\n",
    "    camera = np.random.choice(['center', 'right', 'left'])\n",
    "\n",
    "    if camera == 'Left':\n",
    "        steering += 0.25\n",
    "    elif camera == 'Right':\n",
    "        steering -= 0.25\n",
    "\n",
    "    img = imread(row[camera])\n",
    "\n",
    "    coin = np.random.randint(0,1)\n",
    "\n",
    "    if coin:\n",
    "        steering = -1*steering\n",
    "        img = cv2.flip(img, 1)\n",
    "\n",
    "    img = augment_brightness(img)\n",
    "    img = preprocess(img)\n",
    "\n",
    "    return img, steering"
   ]
  },
  {
   "cell_type": "code",
   "execution_count": 109,
   "metadata": {},
   "outputs": [
    {
     "name": "stdout",
     "output_type": "stream",
     "text": [
      "(80, 320)\n",
      "[[-0.26862745 -0.25294118 -0.24117647 ..., -0.11176471 -0.17058824\n",
      "  -0.15882353]\n",
      " [-0.25686275 -0.2254902  -0.21372549 ..., -0.15490196 -0.17843137\n",
      "  -0.22941176]\n",
      " [-0.09607843 -0.12352941 -0.12745098 ..., -0.21372549 -0.22941176\n",
      "  -0.18627451]\n",
      " ..., \n",
      " [-0.18235294 -0.18235294 -0.17843137 ..., -0.28039216 -0.21764706\n",
      "  -0.15882353]\n",
      " [-0.18235294 -0.18627451 -0.19019608 ..., -0.2372549  -0.27647059\n",
      "  -0.25686275]\n",
      " [-0.18235294 -0.18235294 -0.18627451 ..., -0.23333333 -0.24117647\n",
      "  -0.30392157]]\n",
      "-0.25\n"
     ]
    }
   ],
   "source": [
    "for index, row in training_data.iterrows():\n",
    "    x = np.zeros((64,64,1), dtype=np.float32)\n",
    "    y = np.zeros((), dtype=np.float32)\n",
    "    x, y = read(row)\n",
    "    print(x)\n",
    "    print(y)\n",
    "    break"
   ]
  },
  {
   "cell_type": "code",
   "execution_count": null,
   "metadata": {
    "collapsed": true
   },
   "outputs": [],
   "source": []
  },
  {
   "cell_type": "code",
   "execution_count": null,
   "metadata": {
    "collapsed": true
   },
   "outputs": [],
   "source": []
  }
 ],
 "metadata": {
  "kernelspec": {
   "display_name": "Python 3",
   "language": "python",
   "name": "python3"
  },
  "language_info": {
   "codemirror_mode": {
    "name": "ipython",
    "version": 3
   },
   "file_extension": ".py",
   "mimetype": "text/x-python",
   "name": "python",
   "nbconvert_exporter": "python",
   "pygments_lexer": "ipython3",
   "version": "3.5.2"
  },
  "widgets": {
   "state": {},
   "version": "1.1.2"
  }
 },
 "nbformat": 4,
 "nbformat_minor": 2
}
